{
  "nbformat": 4,
  "nbformat_minor": 0,
  "metadata": {
    "colab": {
      "name": "spleeter-drive.ipynb",
      "provenance": [],
      "collapsed_sections": [],
      "include_colab_link": true
    },
    "kernelspec": {
      "display_name": "Python 3",
      "name": "python3"
    }
  },
  "cells": [
    {
      "cell_type": "markdown",
      "metadata": {
        "id": "view-in-github",
        "colab_type": "text"
      },
      "source": [
        "<a href=\"https://colab.research.google.com/github/matt8707/spleeter-drive/blob/main/spleeter_drive.ipynb\" target=\"_parent\"><img src=\"https://colab.research.google.com/assets/colab-badge.svg\" alt=\"Open In Colab\"/></a>"
      ]
    },
    {
      "cell_type": "markdown",
      "metadata": {
        "id": "K6mcSc0mmp3i"
      },
      "source": [
        "# spleeter → google drive"
      ]
    },
    {
      "cell_type": "code",
      "metadata": {
        "id": "OR_ahlZKM7xo"
      },
      "source": [
        "from google.colab import drive\n",
        "drive.mount('/content/drive')"
      ],
      "execution_count": null,
      "outputs": []
    },
    {
      "cell_type": "code",
      "metadata": {
        "id": "-cjXPVBywGTC"
      },
      "source": [
        "!mkdir -p /content/drive/MyDrive/spleeter/{input,output}"
      ],
      "execution_count": null,
      "outputs": []
    },
    {
      "cell_type": "code",
      "metadata": {
        "id": "hCGvPn71gWca"
      },
      "source": [
        "cd /content/drive/MyDrive/spleeter/input"
      ],
      "execution_count": null,
      "outputs": []
    },
    {
      "cell_type": "code",
      "metadata": {
        "id": "f8Brdfh6mzEz"
      },
      "source": [
        "!apt install ffmpeg"
      ],
      "execution_count": null,
      "outputs": []
    },
    {
      "cell_type": "code",
      "metadata": {
        "id": "V_6Ram1lmc1F"
      },
      "source": [
        "!pip install spleeter"
      ],
      "execution_count": null,
      "outputs": []
    },
    {
      "cell_type": "markdown",
      "metadata": {
        "id": "Ku21ZmuoxcIN"
      },
      "source": [
        "#add files to gdrive/spleeter/input"
      ]
    },
    {
      "cell_type": "code",
      "metadata": {
        "id": "medEjCTjd8EP"
      },
      "source": [
        "ls -I pretrained_models | tr '\\n' ' '"
      ],
      "execution_count": null,
      "outputs": []
    },
    {
      "cell_type": "code",
      "metadata": {
        "id": "dGL-k5xxoKbu"
      },
      "source": [
        "!spleeter separate \\\n",
        "  --output_path /content/drive/MyDrive/spleeter/output/ \\\n",
        "  --params_filename spleeter:5stems-16kHz \\\n",
        "  #a.wav b.wav c.wav"
      ],
      "execution_count": null,
      "outputs": []
    }
  ]
}